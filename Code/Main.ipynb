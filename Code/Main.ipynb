{
 "cells": [
  {
   "cell_type": "code",
   "execution_count": null,
   "id": "57d142e9",
   "metadata": {},
   "outputs": [],
   "source": []
  },
  {
   "cell_type": "code",
   "execution_count": 2,
   "id": "b13f17ce",
   "metadata": {},
   "outputs": [],
   "source": [
    "from urllib.request import urlopen\n",
    "import numpy as np\n",
    "import cv2\n",
    "import time\n",
    "import torch\n",
    "from ultralytics import YOLO\n",
    "import socket\n",
    "\n",
    "server_ip = \"192.168.186.173\"  # NodeMCU IP\n",
    "server_port = 1000  # NodeMCU 포트번호\n",
    "socket = socket.socket(socket.AF_INET, socket.SOCK_STREAM)\n",
    "#TCP/IP 통신을 위한 소켓 생성\n",
    "socket.connect((server_ip, server_port)) #연결\n",
    "\n",
    "model = YOLO(\"best_run21_x.pt\")\n",
    "\n",
    "url = 'http://192.168.186.11/cam-hi.jpg'\n",
    "\n",
    "img_cnt = 0\n",
    "\n",
    "winName = 'ESP32 CAMERA'\n",
    "\n",
    "cv2.namedWindow(\"쓰레기 객체인식\",cv2.WINDOW_AUTOSIZE)\n",
    "prev_time = 0\n",
    "while True:\n",
    "    imgResponse = urlopen(url)\n",
    "    imgNp = np.array(bytearray(imgResponse.read()),dtype=np.uint8)\n",
    "    img = cv2.imdecode (imgNp,-1) \n",
    "            \n",
    "    results = model.predict(img, conf=0.75, verbose=False)  # predict on an image\n",
    "    plots=results[0].plot()\n",
    "    detected_num = len(results[0].boxes.cls)\n",
    "    \n",
    "    if cv2.waitKey(1) & 0xFF == ord('q'):\n",
    "        break\n",
    "    \n",
    "    if detected_num == 1 and time.time() - prev_time >= 10:\n",
    "        class_num = int(results[0].boxes.cls[torch.argmax(results[0].boxes.conf)].item())\n",
    "        class_name = results[0].names[class_num]\n",
    "        print(results[0].names[class_num])\n",
    "        \n",
    "        msg = class_name #판독한 객체 정보를 msg에 저장\n",
    "        socket.sendall(msg.encode(encoding=\"utf-8\")) #msg을 utf-8 인코딩하여 송신\n",
    "        \n",
    "        cv2.imwrite(f'saved_images/plot{img_cnt}_{class_name}.jpg', plots)\n",
    "        img_cnt += 1\n",
    "        prev_time = time.time()\n",
    "        \n",
    "    cv2.imshow(\"쓰레기 객체인식\", plots)\n",
    "        \n",
    "        \n",
    "cv2.destroyAllWindows()"
   ]
  },
  {
   "cell_type": "code",
   "execution_count": null,
   "id": "4c3929ce",
   "metadata": {},
   "outputs": [],
   "source": []
  },
  {
   "cell_type": "code",
   "execution_count": null,
   "id": "acbbe93f",
   "metadata": {},
   "outputs": [],
   "source": []
  }
 ],
 "metadata": {
  "kernelspec": {
   "display_name": "YOLO",
   "language": "python",
   "name": "yolo"
  },
  "language_info": {
   "codemirror_mode": {
    "name": "ipython",
    "version": 3
   },
   "file_extension": ".py",
   "mimetype": "text/x-python",
   "name": "python",
   "nbconvert_exporter": "python",
   "pygments_lexer": "ipython3",
   "version": "3.9.18"
  }
 },
 "nbformat": 4,
 "nbformat_minor": 5
}
